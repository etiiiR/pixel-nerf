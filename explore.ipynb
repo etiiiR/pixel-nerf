{
 "cells": [
  {
   "cell_type": "code",
   "execution_count": 16,
   "id": "335334e8",
   "metadata": {},
   "outputs": [
    {
     "name": "stdout",
     "output_type": "stream",
     "text": [
      "                 0\n",
      "0      scale_mat_0\n",
      "1  scale_mat_inv_0\n",
      "2      scale_mat_1\n",
      "3  scale_mat_inv_1\n",
      "4      scale_mat_2\n",
      "RangeIndex(start=0, stop=1, step=1)\n"
     ]
    }
   ],
   "source": [
    "# read C:\\Users\\super\\Documents\\Github\\pixel-nerf\\rs_dtu_4\\DTU\\scan4\\cameras.npz\n",
    "\n",
    "\n",
    "import numpy as np\n",
    "import os\n",
    "\n",
    "import matplotlib.pyplot as plt\n",
    "\n",
    "\n",
    "def load_camera_data(file_path):\n",
    "    data = np.load(file_path, allow_pickle=True)\n",
    "    return data\n",
    "\n",
    "data = load_camera_data('C:\\\\Users\\\\super\\\\Documents\\\\Github\\\\pixel-nerf\\\\rs_dtu_4\\\\DTU\\\\scan4\\\\cameras.npz')\n",
    "\n",
    "\n",
    "# to pandas\n",
    "import pandas as pd\n",
    "\n",
    "df = pd.DataFrame(data)\n",
    "\n",
    "print(df.head())\n",
    "print(df.columns)\n"
   ]
  },
  {
   "cell_type": "code",
   "execution_count": 17,
   "id": "dc1c9918",
   "metadata": {},
   "outputs": [
    {
     "data": {
      "application/vnd.microsoft.datawrangler.viewer.v0+json": {
       "columns": [
        {
         "name": "index",
         "rawType": "int64",
         "type": "integer"
        },
        {
         "name": "0",
         "rawType": "object",
         "type": "string"
        }
       ],
       "conversionMethod": "pd.DataFrame",
       "ref": "1c6a188f-5b82-4db8-939b-57c1234c205e",
       "rows": [
        [
         "0",
         "scale_mat_0"
        ],
        [
         "1",
         "scale_mat_inv_0"
        ],
        [
         "2",
         "scale_mat_1"
        ],
        [
         "3",
         "scale_mat_inv_1"
        ],
        [
         "4",
         "scale_mat_2"
        ],
        [
         "5",
         "scale_mat_inv_2"
        ],
        [
         "6",
         "scale_mat_3"
        ],
        [
         "7",
         "scale_mat_inv_3"
        ],
        [
         "8",
         "scale_mat_4"
        ],
        [
         "9",
         "scale_mat_inv_4"
        ],
        [
         "10",
         "scale_mat_5"
        ],
        [
         "11",
         "scale_mat_inv_5"
        ],
        [
         "12",
         "scale_mat_6"
        ],
        [
         "13",
         "scale_mat_inv_6"
        ],
        [
         "14",
         "scale_mat_7"
        ],
        [
         "15",
         "scale_mat_inv_7"
        ],
        [
         "16",
         "scale_mat_8"
        ],
        [
         "17",
         "scale_mat_inv_8"
        ],
        [
         "18",
         "scale_mat_9"
        ],
        [
         "19",
         "scale_mat_inv_9"
        ],
        [
         "20",
         "scale_mat_10"
        ],
        [
         "21",
         "scale_mat_inv_10"
        ],
        [
         "22",
         "scale_mat_11"
        ],
        [
         "23",
         "scale_mat_inv_11"
        ],
        [
         "24",
         "scale_mat_12"
        ],
        [
         "25",
         "scale_mat_inv_12"
        ],
        [
         "26",
         "scale_mat_13"
        ],
        [
         "27",
         "scale_mat_inv_13"
        ],
        [
         "28",
         "scale_mat_14"
        ],
        [
         "29",
         "scale_mat_inv_14"
        ],
        [
         "30",
         "scale_mat_15"
        ],
        [
         "31",
         "scale_mat_inv_15"
        ],
        [
         "32",
         "scale_mat_16"
        ],
        [
         "33",
         "scale_mat_inv_16"
        ],
        [
         "34",
         "scale_mat_17"
        ],
        [
         "35",
         "scale_mat_inv_17"
        ],
        [
         "36",
         "scale_mat_18"
        ],
        [
         "37",
         "scale_mat_inv_18"
        ],
        [
         "38",
         "scale_mat_19"
        ],
        [
         "39",
         "scale_mat_inv_19"
        ],
        [
         "40",
         "scale_mat_20"
        ],
        [
         "41",
         "scale_mat_inv_20"
        ],
        [
         "42",
         "scale_mat_21"
        ],
        [
         "43",
         "scale_mat_inv_21"
        ],
        [
         "44",
         "scale_mat_22"
        ],
        [
         "45",
         "scale_mat_inv_22"
        ],
        [
         "46",
         "scale_mat_23"
        ],
        [
         "47",
         "scale_mat_inv_23"
        ],
        [
         "48",
         "scale_mat_24"
        ],
        [
         "49",
         "scale_mat_inv_24"
        ]
       ],
       "shape": {
        "columns": 1,
        "rows": 294
       }
      },
      "text/html": [
       "<div>\n",
       "<style scoped>\n",
       "    .dataframe tbody tr th:only-of-type {\n",
       "        vertical-align: middle;\n",
       "    }\n",
       "\n",
       "    .dataframe tbody tr th {\n",
       "        vertical-align: top;\n",
       "    }\n",
       "\n",
       "    .dataframe thead th {\n",
       "        text-align: right;\n",
       "    }\n",
       "</style>\n",
       "<table border=\"1\" class=\"dataframe\">\n",
       "  <thead>\n",
       "    <tr style=\"text-align: right;\">\n",
       "      <th></th>\n",
       "      <th>0</th>\n",
       "    </tr>\n",
       "  </thead>\n",
       "  <tbody>\n",
       "    <tr>\n",
       "      <th>0</th>\n",
       "      <td>scale_mat_0</td>\n",
       "    </tr>\n",
       "    <tr>\n",
       "      <th>1</th>\n",
       "      <td>scale_mat_inv_0</td>\n",
       "    </tr>\n",
       "    <tr>\n",
       "      <th>2</th>\n",
       "      <td>scale_mat_1</td>\n",
       "    </tr>\n",
       "    <tr>\n",
       "      <th>3</th>\n",
       "      <td>scale_mat_inv_1</td>\n",
       "    </tr>\n",
       "    <tr>\n",
       "      <th>4</th>\n",
       "      <td>scale_mat_2</td>\n",
       "    </tr>\n",
       "    <tr>\n",
       "      <th>...</th>\n",
       "      <td>...</td>\n",
       "    </tr>\n",
       "    <tr>\n",
       "      <th>289</th>\n",
       "      <td>camera_mat_inv_47</td>\n",
       "    </tr>\n",
       "    <tr>\n",
       "      <th>290</th>\n",
       "      <td>world_mat_48</td>\n",
       "    </tr>\n",
       "    <tr>\n",
       "      <th>291</th>\n",
       "      <td>world_mat_inv_48</td>\n",
       "    </tr>\n",
       "    <tr>\n",
       "      <th>292</th>\n",
       "      <td>camera_mat_48</td>\n",
       "    </tr>\n",
       "    <tr>\n",
       "      <th>293</th>\n",
       "      <td>camera_mat_inv_48</td>\n",
       "    </tr>\n",
       "  </tbody>\n",
       "</table>\n",
       "<p>294 rows × 1 columns</p>\n",
       "</div>"
      ],
      "text/plain": [
       "                     0\n",
       "0          scale_mat_0\n",
       "1      scale_mat_inv_0\n",
       "2          scale_mat_1\n",
       "3      scale_mat_inv_1\n",
       "4          scale_mat_2\n",
       "..                 ...\n",
       "289  camera_mat_inv_47\n",
       "290       world_mat_48\n",
       "291   world_mat_inv_48\n",
       "292      camera_mat_48\n",
       "293  camera_mat_inv_48\n",
       "\n",
       "[294 rows x 1 columns]"
      ]
     },
     "metadata": {},
     "output_type": "display_data"
    }
   ],
   "source": [
    "display(df)"
   ]
  }
 ],
 "metadata": {
  "kernelspec": {
   "display_name": "Python 3",
   "language": "python",
   "name": "python3"
  },
  "language_info": {
   "codemirror_mode": {
    "name": "ipython",
    "version": 3
   },
   "file_extension": ".py",
   "mimetype": "text/x-python",
   "name": "python",
   "nbconvert_exporter": "python",
   "pygments_lexer": "ipython3",
   "version": "3.11.9"
  }
 },
 "nbformat": 4,
 "nbformat_minor": 5
}
